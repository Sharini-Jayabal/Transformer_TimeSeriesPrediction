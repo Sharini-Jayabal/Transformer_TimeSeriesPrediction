{
  "nbformat": 4,
  "nbformat_minor": 0,
  "metadata": {
    "colab": {
      "provenance": [],
      "authorship_tag": "ABX9TyObbKgiFrmh30jaljchbNTh",
      "include_colab_link": true
    },
    "kernelspec": {
      "name": "python3",
      "display_name": "Python 3"
    },
    "language_info": {
      "name": "python"
    }
  },
  "cells": [
    {
      "cell_type": "markdown",
      "metadata": {
        "id": "view-in-github",
        "colab_type": "text"
      },
      "source": [
        "<a href=\"https://colab.research.google.com/github/Sharini-Jayabal/Transformer_TimeSeriesPrediction/blob/main/Transformer_TSP.ipynb\" target=\"_parent\"><img src=\"https://colab.research.google.com/assets/colab-badge.svg\" alt=\"Open In Colab\"/></a>"
      ]
    },
    {
      "cell_type": "code",
      "source": [
        "import torch.nn as nn\n",
        "import torch.optim as optim\n",
        "import pandas as pd\n",
        "import numpy as np\n",
        "import math\n",
        "import torch\n",
        "from sklearn.preprocessing import MinMaxScaler\n",
        "\n",
        "\n",
        "df = pd.read_csv('/content/energydata_complete.csv', index_col='date', parse_dates=['date'])\n",
        "data = df['Appliances'].values.reshape(-1, 1)\n",
        "\n",
        "scaler = MinMaxScaler(feature_range=(-1, 1))\n",
        "data = scaler.fit_transform(data)\n",
        "\n",
        "class TransformerModel(nn.Module):\n",
        "\n",
        "    def __init__(self, input_size, hidden_size, num_classes, num_layers, num_heads, dropout):\n",
        "        super(TransformerModel, self).__init__()\n",
        "\n",
        "        self.transformer_encoder = nn.TransformerEncoder(\n",
        "            nn.TransformerEncoderLayer(\n",
        "                d_model=input_size,\n",
        "                nhead=num_heads,\n",
        "                dropout=dropout\n",
        "            ),\n",
        "            num_layers=num_layers\n",
        "        )\n",
        "        \n",
        "        self.fc = nn.Linear(hidden_size, num_classes)\n",
        "\n",
        "    def forward(self, x):\n",
        "        if len(x.shape) == 3:\n",
        "            x = x.permute(1, 0, 2) \n",
        "        else:\n",
        "            x = x.unsqueeze(1) \n",
        "            x = x.permute(1, 0, 2)\n",
        "            x = self.transformer_encoder(x)\n",
        "            x = x[-1, :, :] \n",
        "            x = self.fc(x)\n",
        "        return x\n",
        "\n",
        "\n",
        "train_size = int(len(data) * 0.8)\n",
        "train_data = data[:train_size]\n",
        "test_data = data[train_size:]\n",
        "\n",
        "\n",
        "output_size = 1\n",
        "num_layers = 2\n",
        "num_heads = 8  \n",
        "hidden_size = 512\n",
        "dropout = 0.1\n",
        "lr = 0.001\n",
        "num_epochs = 5\n",
        "input_size = num_heads * 32\n",
        "batch_size = 32\n",
        "\n",
        "\n",
        "\n",
        "min_test_loss = float('inf')\n",
        "best_trajectory = None\n",
        "\n",
        "\n",
        "trajectories = ['Appliances', 'lights', 'T_out']\n",
        "for traj in trajectories:\n",
        "\n",
        "    traj_data = df[traj].values.reshape(-1, 1)\n",
        "    traj_scaler = MinMaxScaler(feature_range=(-1, 1))\n",
        "    traj_data = traj_scaler.fit_transform(traj_data)\n",
        "    traj_train_data = traj_data[:train_size]\n",
        "    traj_test_data = traj_data[train_size:]\n",
        "    train_dataset = torch.utils.data.TensorDataset(torch.FloatTensor(traj_train_data[:-1]), torch.FloatTensor(traj_train_data[1:]))\n",
        "    test_dataset = torch.utils.data.TensorDataset(torch.FloatTensor(traj_test_data[:-1]), torch.FloatTensor(traj_test_data[1:]))\n",
        "    train_loader = torch.utils.data.DataLoader(train_dataset, batch_size=batch_size, shuffle=True)\n",
        "    test_loader = torch.utils.data.DataLoader(test_dataset, batch_size=batch_size, shuffle=True)\n",
        "\n",
        "    train_loader.dataset.tensors = (\n",
        "        train_loader.dataset.tensors[0].unsqueeze(0),\n",
        "        train_loader.dataset.tensors[1].unsqueeze(0)\n",
        "    )\n",
        "    test_loader.dataset.tensors = (\n",
        "        test_loader.dataset.tensors[0].unsqueeze(0),\n",
        "        test_loader.dataset.tensors[1].unsqueeze(0)\n",
        "    )\n",
        "\n",
        "    model = TransformerModel(input_size, hidden_size, output_size, num_layers, num_heads, dropout)\n",
        "    optimizer = optim.Adam(model.parameters(), lr=lr)\n",
        "\n",
        "  \n",
        "    for epoch in range(num_epochs):\n",
        "        model.train()\n",
        "        for i, (inputs, target) in enumerate(train_loader):\n",
        "            optimizer.zero_grad()\n",
        "            outputs = model(inputs)\n",
        "            inputs.requires_grad_()\n",
        "            targets.requires_grad_()\n",
        "            loss = nn.MSELoss()(outputs, target)\n",
        "            targets = targets.view(-1, 1, 1)\n",
        "            #loss.backward()\n",
        "            optimizer.step()\n",
        "\n",
        "        with torch.no_grad():\n",
        "            model.eval()\n",
        "            test_loss = 0\n",
        "            for inputs, targets in test_loader:\n",
        "                outputs = model(inputs)\n",
        "                loss = nn.MSELoss()(outputs, targets)\n",
        "                test_loss += loss.item()\n",
        "\n",
        "            test_loss /= len(test_loader)\n",
        "        print(f'Test loss for trajectory {traj}: {test_loss:.4f}')\n",
        "        if test_loss < min_test_loss:\n",
        "            min_test_loss = test_loss\n",
        "            best_trajectory = traj\n",
        "    print(f'Best trajectory so far: {best_trajectory}') \n",
        "\n",
        "       \n"
      ],
      "metadata": {
        "colab": {
          "base_uri": "https://localhost:8080/"
        },
        "id": "H3326lNbonmX",
        "outputId": "849f3aac-f29a-465b-a6b7-5fe279216ec8"
      },
      "execution_count": 13,
      "outputs": [
        {
          "output_type": "stream",
          "name": "stderr",
          "text": [
            "/usr/local/lib/python3.9/dist-packages/torch/nn/modules/loss.py:536: UserWarning: Using a target size (torch.Size([1, 15787, 1])) that is different to the input size (torch.Size([15787, 1, 1])). This will likely lead to incorrect results due to broadcasting. Please ensure they have the same size.\n",
            "  return F.mse_loss(input, target, reduction=self.reduction)\n",
            "/usr/local/lib/python3.9/dist-packages/torch/nn/modules/loss.py:536: UserWarning: Using a target size (torch.Size([1, 3946, 1])) that is different to the input size (torch.Size([3946, 1, 1])). This will likely lead to incorrect results due to broadcasting. Please ensure they have the same size.\n",
            "  return F.mse_loss(input, target, reduction=self.reduction)\n"
          ]
        },
        {
          "output_type": "stream",
          "name": "stdout",
          "text": [
            "Test loss for trajectory Appliances: 0.0578\n",
            "Test loss for trajectory Appliances: 0.0578\n",
            "Test loss for trajectory Appliances: 0.0578\n",
            "Test loss for trajectory Appliances: 0.0578\n",
            "Test loss for trajectory Appliances: 0.0578\n",
            "Best trajectory so far: Appliances\n"
          ]
        },
        {
          "output_type": "stream",
          "name": "stderr",
          "text": [
            "/usr/local/lib/python3.9/dist-packages/torch/nn/modules/loss.py:536: UserWarning: Using a target size (torch.Size([1, 15787, 1])) that is different to the input size (torch.Size([15787, 1, 1])). This will likely lead to incorrect results due to broadcasting. Please ensure they have the same size.\n",
            "  return F.mse_loss(input, target, reduction=self.reduction)\n",
            "/usr/local/lib/python3.9/dist-packages/torch/nn/modules/loss.py:536: UserWarning: Using a target size (torch.Size([1, 3946, 1])) that is different to the input size (torch.Size([3946, 1, 1])). This will likely lead to incorrect results due to broadcasting. Please ensure they have the same size.\n",
            "  return F.mse_loss(input, target, reduction=self.reduction)\n"
          ]
        },
        {
          "output_type": "stream",
          "name": "stdout",
          "text": [
            "Test loss for trajectory lights: 0.0488\n",
            "Test loss for trajectory lights: 0.0488\n",
            "Test loss for trajectory lights: 0.0488\n",
            "Test loss for trajectory lights: 0.0488\n",
            "Test loss for trajectory lights: 0.0488\n",
            "Best trajectory so far: lights\n"
          ]
        },
        {
          "output_type": "stream",
          "name": "stderr",
          "text": [
            "/usr/local/lib/python3.9/dist-packages/torch/nn/modules/loss.py:536: UserWarning: Using a target size (torch.Size([1, 15787, 1])) that is different to the input size (torch.Size([15787, 1, 1])). This will likely lead to incorrect results due to broadcasting. Please ensure they have the same size.\n",
            "  return F.mse_loss(input, target, reduction=self.reduction)\n",
            "/usr/local/lib/python3.9/dist-packages/torch/nn/modules/loss.py:536: UserWarning: Using a target size (torch.Size([1, 3946, 1])) that is different to the input size (torch.Size([3946, 1, 1])). This will likely lead to incorrect results due to broadcasting. Please ensure they have the same size.\n",
            "  return F.mse_loss(input, target, reduction=self.reduction)\n"
          ]
        },
        {
          "output_type": "stream",
          "name": "stdout",
          "text": [
            "Test loss for trajectory T_out: 0.2044\n",
            "Test loss for trajectory T_out: 0.2044\n",
            "Test loss for trajectory T_out: 0.2044\n",
            "Test loss for trajectory T_out: 0.2044\n",
            "Test loss for trajectory T_out: 0.2044\n",
            "Best trajectory so far: lights\n"
          ]
        }
      ]
    }
  ]
}